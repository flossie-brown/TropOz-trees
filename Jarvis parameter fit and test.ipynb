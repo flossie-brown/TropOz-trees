{
 "cells": [
  {
   "cell_type": "code",
   "execution_count": 1,
   "id": "interracial-fundamental",
   "metadata": {},
   "outputs": [
    {
     "name": "stderr",
     "output_type": "stream",
     "text": [
      "Loading required package: plantecophys\n",
      "Warning message:\n",
      "\"package 'patchwork' was built under R version 3.6.3\"Registered S3 methods overwritten by 'ggplot2':\n",
      "  method         from \n",
      "  [.quosures     rlang\n",
      "  c.quosures     rlang\n",
      "  print.quosures rlang\n",
      "Loading required package: ggplot2\n",
      "Warning message:\n",
      "\"package 'drc' was built under R version 3.6.3\"Loading required package: MASS\n",
      "\n",
      "Attaching package: 'MASS'\n",
      "\n",
      "The following object is masked from 'package:patchwork':\n",
      "\n",
      "    area\n",
      "\n",
      "\n",
      "'drc' has been loaded.\n",
      "\n",
      "Please cite R and 'drc' if used for a publication,\n",
      "for references type 'citation()' and 'citation('drc')'.\n",
      "\n",
      "\n",
      "Attaching package: 'drc'\n",
      "\n",
      "The following objects are masked from 'package:stats':\n",
      "\n",
      "    gaussian, getInitial\n",
      "\n"
     ]
    }
   ],
   "source": [
    "#--------------------------------------------------\n",
    "#  LOAD PACKAGES\n",
    "#--------------------------------------------------\n",
    "\n",
    "require(plantecophys)\n",
    "library(patchwork)\n",
    "require(ggplot2)\n",
    "library(drc)"
   ]
  },
  {
   "cell_type": "code",
   "execution_count": 167,
   "id": "raised-minutes",
   "metadata": {},
   "outputs": [
    {
     "name": "stdout",
     "output_type": "stream",
     "text": [
      "\n",
      " gmax PLA: [1] 252.46\n",
      "\n",
      " gmax O3 PLA: [1] 167.381\n"
     ]
    },
    {
     "data": {
      "text/html": [
       "<table>\n",
       "<thead><tr><th scope=col>gmax</th><th scope=col>gmax_O3</th><th scope=col>T_min</th><th scope=col>T_max</th><th scope=col>T_opt</th><th scope=col>RH_max</th><th scope=col>RH_min</th><th scope=col>PAR</th><th scope=col>EXP</th></tr></thead>\n",
       "<tbody>\n",
       "\t<tr><td>252.46     </td><td>167.381    </td><td>23         </td><td>51         </td><td>40         </td><td>2.100302   </td><td>-6.139909  </td><td>0.007593573</td><td>TC1        </td></tr>\n",
       "</tbody>\n",
       "</table>\n"
      ],
      "text/latex": [
       "\\begin{tabular}{r|lllllllll}\n",
       " gmax & gmax\\_O3 & T\\_min & T\\_max & T\\_opt & RH\\_max & RH\\_min & PAR & EXP\\\\\n",
       "\\hline\n",
       "\t 252.46      & 167.381     & 23          & 51          & 40          & 2.100302    & -6.139909   & 0.007593573 & TC1        \\\\\n",
       "\\end{tabular}\n"
      ],
      "text/markdown": [
       "\n",
       "| gmax | gmax_O3 | T_min | T_max | T_opt | RH_max | RH_min | PAR | EXP |\n",
       "|---|---|---|---|---|---|---|---|---|\n",
       "| 252.46      | 167.381     | 23          | 51          | 40          | 2.100302    | -6.139909   | 0.007593573 | TC1         |\n",
       "\n"
      ],
      "text/plain": [
       "  gmax   gmax_O3 T_min T_max T_opt RH_max   RH_min    PAR         EXP\n",
       "1 252.46 167.381 23    51    40    2.100302 -6.139909 0.007593573 TC1"
      ]
     },
     "metadata": {},
     "output_type": "display_data"
    },
    {
     "data": {
      "image/png": "[encoded data removed]",
      "text/plain": [
       "plot without title"
      ]
     },
     "metadata": {},
     "output_type": "display_data"
    },
    {
     "data": {
      "text/html": [
       "<table>\n",
       "<thead><tr><th scope=col>gmax</th><th scope=col>gmax_O3</th><th scope=col>T_min</th><th scope=col>T_max</th><th scope=col>T_opt</th><th scope=col>RH_max</th><th scope=col>RH_min</th><th scope=col>PAR</th><th scope=col>EXP</th></tr></thead>\n",
       "<tbody>\n",
       "\t<tr><td>252.46 </td><td>167.381</td><td>20     </td><td>50     </td><td>35     </td><td>2.5    </td><td>6      </td><td>0.008  </td><td>TC1    </td></tr>\n",
       "</tbody>\n",
       "</table>\n"
      ],
      "text/latex": [
       "\\begin{tabular}{r|lllllllll}\n",
       " gmax & gmax\\_O3 & T\\_min & T\\_max & T\\_opt & RH\\_max & RH\\_min & PAR & EXP\\\\\n",
       "\\hline\n",
       "\t 252.46  & 167.381 & 20      & 50      & 35      & 2.5     & 6       & 0.008   & TC1    \\\\\n",
       "\\end{tabular}\n"
      ],
      "text/markdown": [
       "\n",
       "| gmax | gmax_O3 | T_min | T_max | T_opt | RH_max | RH_min | PAR | EXP |\n",
       "|---|---|---|---|---|---|---|---|---|\n",
       "| 252.46  | 167.381 | 20      | 50      | 35      | 2.5     | 6       | 0.008   | TC1     |\n",
       "\n"
      ],
      "text/plain": [
       "  gmax   gmax_O3 T_min T_max T_opt RH_max RH_min PAR   EXP\n",
       "1 252.46 167.381 20    50    35    2.5    6      0.008 TC1"
      ]
     },
     "metadata": {},
     "output_type": "display_data"
    },
    {
     "data": {
      "image/png": "[encoded data removed]",
      "text/plain": [
       "plot without title"
      ]
     },
     "metadata": {},
     "output_type": "display_data"
    }
   ],
   "source": [
    "#--------------------------------------------------\n",
    "#  LOAD FUNCTIONS\n",
    "#--------------------------------------------------\n",
    "\n",
    "setwd('C:/Users/fb428/OneDrive - University of Exeter/Documents/Tropoz/')\n",
    "source('scripts/jarvis_functions.R')\n",
    "\n",
    "f = 'TC1'\n",
    "\n",
    "#--------------------------------------------------\n",
    "#  LOAD DATA\n",
    "#--------------------------------------------------\n",
    "\n",
    "DATA <- read.csv(gsub(\" \", \"\", paste( f,'/',f,'_Porometer.csv')))\n",
    "\n",
    "#--------------------------------------------------\n",
    "#  UNIFY COLNAMES\n",
    "#--------------------------------------------------\n",
    "\n",
    "if (!\"VPD\" %in% colnames(DATA)){\n",
    "    VPD_kPa <- RHtoVPD(DATA$RH, DATA$AirTC_Avg, Pa = 101)\n",
    "    DATA$VPD <- VPD_kPa\n",
    "    }\n",
    "\n",
    "\n",
    "DATA$datetime <- as.POSIXct(strptime(DATA$datetime, format=\"%d/%m/%Y %H:%M\", tz=\"Australia/Brisbane\"))\n",
    "\n",
    "#--------------------------------------------------\n",
    "#  CALCULATE GMAX\n",
    "#--------------------------------------------------\n",
    "\n",
    "abaxial <- RSC(DATA, 'Abaxial')\n",
    "adaxial <- RSC(DATA, 'Adaxial')\n",
    "\n",
    "gmax_ab <- gmax(abaxial)\n",
    "gmax_ad <- gmax(adaxial)\n",
    "gmax <- (gmax_ab + gmax_ad)/2\n",
    "gmax_ozone <- gmax * 0.663\n",
    "\n",
    "cat('\\n gmax PLA: ')\n",
    "print(gmax)\n",
    "\n",
    "cat('\\n gmax O3 PLA: ')\n",
    "print(gmax_ozone)\n",
    "\n",
    "Porometer <- rbind(abaxial, adaxial)\n",
    "\n",
    "\n",
    "#--------------------------------------------------\n",
    "#  DIVIDE INTO 11 GROUPS AND GET 90TH PERCENTILE\n",
    "#--------------------------------------------------\n",
    "\n",
    "Porometer <- na.omit(Porometer)\n",
    "\n",
    "column_no <- which(colnames(Porometer) == 'RSC')\n",
    "\n",
    "top_air <- top_90(Porometer$AirTC_Avg)\n",
    "air_90 <- divide_10(Porometer$AirTC_Avg, column_no)\n",
    "air_limits <- variable_center (Porometer$AirTC_Avg)\n",
    "\n",
    "top_RH <- top_90(Porometer$VPD)\n",
    "RH_90 <- divide_10(Porometer$VPD, column_no)\n",
    "RH_limits <- variable_center (Porometer$VPD)\n",
    "\n",
    "top_PAR <- top_90(Porometer$PAR_Den_Avg)\n",
    "PAR_90 <- divide_10(Porometer$PAR_Den_Avg, column_no)\n",
    "PAR_limits <- variable_center (Porometer$PAR_Den_Avg)\n",
    "\n",
    "\n",
    "#--------------------------------------------------\n",
    "#  FIT JARVIS PARAMETERS\n",
    "#--------------------------------------------------\n",
    "\n",
    "# FITTED BY MODEL\n",
    "\n",
    "temp_coefs <- fit_poly(top_air)\n",
    "\n",
    "T_min <- min(which(temp_function((1:50), temp_coefs) != 0))-1\n",
    "T_opt <- which.max(temp_function((0:50), temp_coefs))\n",
    "T_max <- max(which(temp_function((1:50), temp_coefs) != 0))+1\n",
    "\n",
    "linear <- lm(RSC ~ VPD, data = top_RH)\n",
    "RH_coefs <- coef(linear)\n",
    "\n",
    "RH_min <- -RH_coefs[[1]]/RH_coefs[[2]]\n",
    "RH_max <- (1-RH_coefs[[1]])/RH_coefs[[2]]\n",
    "\n",
    "PAR_param <- 0.016\n",
    "model <- drm(-RSC ~ PAR_Den_Avg, fct=EXD.3(fixed = c(-1,0, NA)),\n",
    "            data = top_PAR[top_PAR$PAR_Den_Avg > 0,])\n",
    "exp_param <- coef(model)[[1]]\n",
    "PAR_param <- 1/exp_param\n",
    "\n",
    "#-------------------------PLOT-----------------------\n",
    "\n",
    "options(repr.plot.width = 10, repr.plot.height = 3)\n",
    "par(mfrow=c(1,3))\n",
    "plot(y = as.numeric(air_90), x = air_limits, col = 'red', pch = 16, xlim = c(15,45), ylim = c(0,1.3), ylab = 'RSC', xlab = 'Temp')\n",
    "lines(x = (15:50),y = temp_function((15:50), temp_coefs) , lwd = 3, col = 'grey')\n",
    "points(x = Porometer$AirTC_Avg, y = Porometer$RSC, pch = 20)\n",
    "\n",
    "plot(y = as.numeric(RH_90), x = RH_limits, col = 'red', pch = 16, xlim = c(0,4), ylim = c(0,1.3), ylab = 'RSC', xlab = 'VPD')\n",
    "points(x = Porometer$VPD, y = Porometer$RSC, pch = 20)\n",
    "lines(x = (0:7), y = RH_function((0:7), RH_coefs), lwd = 3, col = 'grey')\n",
    "\n",
    "plot(x = Porometer$PAR_Den_Avg, y = Porometer$RSC, pch = 20, xlim = c(0,2700), ylim = c(0,1.3), ylab = 'RSC', xlab = 'PAR', col = 'black')\n",
    "points(y = as.numeric(PAR_90), x = PAR_limits, col = 'red', pch = 16)\n",
    "lines(y = PAR_function((0:2500), PAR_param), x = (0:2500), lwd = 3, col = 'grey')\n",
    "\n",
    "# SAVE COEFFICIENTS\n",
    "\n",
    "jarvis_eq <- data.frame(gmax = c(gmax), gmax_O3 = c(gmax_ozone), T_min = c(T_min), T_max = c(T_max), T_opt = c(T_opt),\n",
    "                           RH_max = c(RH_max), RH_min = c(RH_min), PAR = c(PAR_param), EXP = c(f))\n",
    "\n",
    "jarvis_eq\n",
    "\n",
    "# FITTED BY EYE\n",
    "\n",
    "T_min <- 20\n",
    "T_opt <- 35\n",
    "T_max <- 50\n",
    "\n",
    "test_data <- data.frame(RSC = c(0,1,0), AirTC_Avg = c(T_min,T_opt,T_max))\n",
    "temp_coefs <- fit_poly(test_data)\n",
    "\n",
    "RH_max <- 2.5\n",
    "RH_min <- 6\n",
    "\n",
    "linear <- lm(c(1,0) ~ c(RH_max,RH_min))\n",
    "RH_coefs <- coef(linear)\n",
    "\n",
    "PAR_param <- 0.008\n",
    "\n",
    "# SAVE VALUES IN DATAFRAME\n",
    "\n",
    "jarvis_byeye <- data.frame(gmax = c(gmax), gmax_O3 = c(gmax_ozone), T_min = c(T_min), T_max = c(T_max), T_opt = c(T_opt),\n",
    "                           RH_max = c(RH_max), RH_min = c(RH_min), PAR = c(PAR_param), EXP = c(f))\n",
    "\n",
    "jarvis_params <- merge(jarvis_byeye, jarvis_eq, all=TRUE)\n",
    "\n",
    "write.csv( jarvis_params, gsub(\" \", \"\", paste('outputs/script_output_',f,'/jarvis_',f,'.csv')), row.names=FALSE)\n",
    "\n",
    "#-------------------------PLOT-----------------------\n",
    "\n",
    "options(repr.plot.width = 10, repr.plot.height = 3)\n",
    "par(mfrow=c(1,3))\n",
    "plot(y = as.numeric(air_90), x = air_limits, col = 'red', pch = 16, xlim = c(15,45), ylim = c(0,1.3), ylab = 'RSC', xlab = 'Temp')\n",
    "lines(x = (15:50),y = temp_function((15:50), temp_coefs) , lwd = 3, col = 'grey')\n",
    "points(x = Porometer$AirTC_Avg, y = Porometer$RSC, pch = 20)\n",
    "\n",
    "plot(y = as.numeric(RH_90), x = RH_limits, col = 'red', pch = 16, xlim = c(0,4), ylim = c(0,1.3), ylab = 'RSC', xlab = 'VPD')\n",
    "points(x = Porometer$VPD, y = Porometer$RSC, pch = 20)\n",
    "lines(x = (0:7), y = RH_function((0:7), RH_coefs), lwd = 3, col = 'grey')\n",
    "\n",
    "plot(x = Porometer$PAR_Den_Avg, y = Porometer$RSC, pch = 20, xlim = c(0,2700), ylim = c(0,1.3), ylab = 'RSC', xlab = 'PAR', col = 'black')\n",
    "points(y = as.numeric(PAR_90), x = PAR_limits, col = 'red', pch = 16)\n",
    "lines(y = PAR_function((0:2500), PAR_param), x = (0:2500), lwd = 3, col = 'grey')\n",
    "\n",
    "jarvis_byeye"
   ]
  },
  {
   "cell_type": "code",
   "execution_count": 168,
   "id": "private-vanilla",
   "metadata": {},
   "outputs": [
    {
     "data": {
      "text/html": [
       "<strong>png:</strong> 2"
      ],
      "text/latex": [
       "\\textbf{png:} 2"
      ],
      "text/markdown": [
       "**png:** 2"
      ],
      "text/plain": [
       "png \n",
       "  2 "
      ]
     },
     "metadata": {},
     "output_type": "display_data"
    }
   ],
   "source": [
    "a <- ggplot()+\n",
    "geom_point(data = Porometer, aes(x = VPD, y = RSC, shape = as.factor(Position), colour = as.factor(Cham_ID)))+\n",
    "  theme_bw()+\n",
    "  xlab(expression(paste(\"VPD\")))+\n",
    "  ylab('Relative conductance')+\n",
    "  theme(\n",
    "    axis.text=element_text(size=15,colour=\"black\"),\n",
    "    line=element_line(colour=\"black\"),\n",
    "    axis.title=element_text(size=15),\n",
    "    \n",
    "    legend.position='none')\n",
    "\n",
    "b <- ggplot()+\n",
    "geom_point(data = Porometer, aes(x = PAR_Den_Avg, y = RSC, shape = as.factor(Position), colour = as.factor(Cham_ID)))+\n",
    "  theme_bw()+\n",
    "  xlab(expression(paste(\"PAR\")))+\n",
    "  ylab(expression(paste(\"Relative conductance\", sep=\"\")))+\n",
    "  theme(\n",
    "    axis.text=element_text(size=15,colour=\"black\"),\n",
    "    line=element_line(colour=\"black\"),\n",
    "    axis.title=element_text(size=15),\n",
    "    \n",
    "    )\n",
    "\n",
    "c <- ggplot()+\n",
    "geom_point(data = Porometer, aes(x = AirTC_Avg, y = RSC, shape = as.factor(Position), colour = as.factor(Cham_ID)))+\n",
    "  theme_bw()+\n",
    "  xlab(expression(paste(\"Air T\")))+\n",
    "  ylab(expression(paste(\"Relative conductance\", sep=\"\")))+\n",
    "  theme(\n",
    "    axis.text=element_text(size=15,colour=\"black\"),\n",
    "    line=element_line(colour=\"black\"),\n",
    "    axis.title=element_text(size=15),\n",
    "      legend.position='none'\n",
    "    )\n",
    "\n",
    "# save and display plot\n",
    "\n",
    "png(gsub(\" \", \"\", paste('outputs/script_output_',f,'/RSC_', f, '.png')), width =  40, height = 20, units='cm', res = 330)\n",
    "\n",
    "options(repr.plot.width=15, repr.plot.height=7)\n",
    "\n",
    "a + c + b +\n",
    "  plot_layout(widths = unit(10, 'cm'), heights = unit(10, 'cm'))\n",
    "\n",
    "dev.off()"
   ]
  },
  {
   "cell_type": "code",
   "execution_count": 169,
   "id": "buried-corpus",
   "metadata": {
    "scrolled": false
   },
   "outputs": [
    {
     "data": {
      "text/plain": [
       "\n",
       "Call:\n",
       "lm(formula = model ~ measured, data = RSC_ab)\n",
       "\n",
       "Residuals:\n",
       "     Min       1Q   Median       3Q      Max \n",
       "-0.60791 -0.08320  0.03568  0.15404  0.41381 \n",
       "\n",
       "Coefficients:\n",
       "            Estimate Std. Error t value Pr(>|t|)    \n",
       "(Intercept)  0.40750    0.04448    9.16   <2e-16 ***\n",
       "measured     0.70604    0.06654   10.61   <2e-16 ***\n",
       "---\n",
       "Signif. codes:  0 '***' 0.001 '**' 0.01 '*' 0.05 '.' 0.1 ' ' 1\n",
       "\n",
       "Residual standard error: 0.2198 on 213 degrees of freedom\n",
       "Multiple R-squared:  0.3458,\tAdjusted R-squared:  0.3427 \n",
       "F-statistic: 112.6 on 1 and 213 DF,  p-value: < 2.2e-16\n"
      ]
     },
     "metadata": {},
     "output_type": "display_data"
    },
    {
     "data": {
      "text/html": [
       "<strong>png:</strong> 2"
      ],
      "text/latex": [
       "\\textbf{png:} 2"
      ],
      "text/markdown": [
       "**png:** 2"
      ],
      "text/plain": [
       "png \n",
       "  2 "
      ]
     },
     "metadata": {},
     "output_type": "display_data"
    },
    {
     "data": {
      "image/png": "[encoded data removed]",
      "text/plain": [
       "plot without title"
      ]
     },
     "metadata": {},
     "output_type": "display_data"
    }
   ],
   "source": [
    "#--------------------------------------------------\n",
    "#  TEST JARVIS PARAMETERS\n",
    "#--------------------------------------------------\n",
    "\n",
    "# predict conductance using funtions generated\n",
    "\n",
    "Conductance_ab = temp_function(abaxial$AirTC_Avg, temp_coefs) * \n",
    "        RH_function(abaxial$VPD, RH_coefs) *\n",
    "        PAR_function(abaxial$PAR_Den_Avg, PAR_param)\n",
    "\n",
    "Conductance_ad = temp_function(adaxial$AirTC_Avg, temp_coefs) * \n",
    "        RH_function(adaxial$VPD, RH_coefs) *\n",
    "        PAR_function(adaxial$PAR_Den_Avg, PAR_param)\n",
    "\n",
    "#make dataframe of modelled and measured\n",
    "\n",
    "modelled_conductance_ab <- data.frame(model = Conductance_ab, measured = abaxial$RSC, chamb = abaxial$Cham_ID, datetime = abaxial$datetime)\n",
    "modelled_conductance_ad <- data.frame(model = Conductance_ad, measured = adaxial$RSC, chamb = adaxial$Cham_ID, datetime = adaxial$datetime)\n",
    "\n",
    "# add day\n",
    "\n",
    "RSC_ab <- add_day(modelled_conductance_ab)\n",
    "RSC_ad <- add_day(modelled_conductance_ad)\n",
    "\n",
    "r.squared <- lm(model ~ measured, data = RSC_ab)\n",
    "summary(r.squared)\n",
    "\n",
    "\n",
    "# save and display plot\n",
    "options(repr.plot.width = 5, repr.plot.height = 4)\n",
    "r <- ggplot()+\n",
    "geom_point(data = RSC_ab, aes(x = model, y = measured, colour = factor(chamb)))+\n",
    "geom_abline(aes(intercept = 0, slope = 1))+\n",
    "annotate('text', x = 0.1, y = 1, label = paste('r2=', round(summary(r.squared)$r.squared, 2)))\n",
    "\n",
    "\n",
    "png(gsub(\" \", \"\", paste('outputs/script_output_',f,'/Jarvis_correlation_', f, '.png')), width =  15, height = 10, units='cm', res = 330)\n",
    "\n",
    "r\n",
    "\n",
    "dev.off()\n",
    "r"
   ]
  },
  {
   "cell_type": "code",
   "execution_count": 170,
   "id": "organizational-tunnel",
   "metadata": {},
   "outputs": [
    {
     "data": {
      "text/html": [
       "<strong>png:</strong> 2"
      ],
      "text/latex": [
       "\\textbf{png:} 2"
      ],
      "text/markdown": [
       "**png:** 2"
      ],
      "text/plain": [
       "png \n",
       "  2 "
      ]
     },
     "metadata": {},
     "output_type": "display_data"
    },
    {
     "data": {
      "image/png": "[encoded data removed]",
      "text/plain": [
       "plot without title"
      ]
     },
     "metadata": {},
     "output_type": "display_data"
    }
   ],
   "source": [
    "options(repr.plot.width = 8, repr.plot.height = 7)\n",
    "\n",
    "a <- ggplot(data = RSC_ab)+\n",
    "geom_point( aes(x = datetime, y = measured, colour = factor(chamb)))+\n",
    "geom_point(data = RSC_ab, aes(x = datetime, y = model), color = 'red')+\n",
    "geom_point(data = RSC_ad, aes(x = datetime, y = measured, colour = factor(chamb)))+\n",
    "geom_point(data = RSC_ad, aes(x = datetime, y = model), color = 'green')+\n",
    "facet_wrap(vars(as.numeric(Day)), scales = 'free_x')+\n",
    "theme_bw()+\n",
    "  #xlab(expression(paste(\"PAR\")))+\n",
    "  ylab('Relative gs')+\n",
    "  theme(\n",
    "    axis.text.x = element_blank(),\n",
    "    axis.text=element_text(size=10,colour=\"black\", angle = 90),\n",
    "    line=element_line(colour=\"black\"),\n",
    "    axis.title=element_text(size=15),\n",
    "    legend.position='none'\n",
    "    )\n",
    "\n",
    "# save and display plot\n",
    "\n",
    "png(gsub(\" \", \"\", paste('outputs/script_output_',f,'/Jarvis_preds_', f, '.png')), width =  25, height = 20, units='cm', res = 330)\n",
    "\n",
    "a\n",
    "\n",
    "dev.off()\n",
    "\n",
    "a\n",
    "\n"
   ]
  },
  {
   "cell_type": "code",
   "execution_count": 171,
   "id": "exotic-arizona",
   "metadata": {},
   "outputs": [
    {
     "data": {
      "text/html": [
       "<strong>png:</strong> 2"
      ],
      "text/latex": [
       "\\textbf{png:} 2"
      ],
      "text/markdown": [
       "**png:** 2"
      ],
      "text/plain": [
       "png \n",
       "  2 "
      ]
     },
     "metadata": {},
     "output_type": "display_data"
    },
    {
     "data": {
      "image/png": "[encoded data removed]",
      "text/plain": [
       "plot without title"
      ]
     },
     "metadata": {},
     "output_type": "display_data"
    }
   ],
   "source": [
    "#Plot met conditions as comparison\n",
    "Porometer_day <- add_day(Porometer)\n",
    "b <- ggplot(data = Porometer_day)+\n",
    "geom_point( aes(x = datetime, y = AirTC_Avg), color = 'red')+\n",
    "geom_point( aes(x = datetime, y = PAR_Den_Avg/50), colour = 'green')+\n",
    "geom_point( aes(x = datetime, y = RH/2), colour = 'blue')+\n",
    "#geom_point(data = modelled_conductance, aes(x = datetime, y = Conductance), color = 'red')+\n",
    "facet_wrap(vars(as.numeric(Day)), scales = 'free_x')+\n",
    "theme_bw()+\n",
    "  #xlab(expression(paste(\"PAR\")))+\n",
    "  #ylab(expression(paste(\"gs. (mmol \",m^-2, s^-1,\")\", sep=\"\")))+\n",
    "  theme(\n",
    "#axis.text.x = element_blank(),\n",
    "    axis.text=element_text(size=6,colour=\"black\", angle = 90),\n",
    "    line=element_line(colour=\"black\"),\n",
    "    axis.title=element_text(size=15),\n",
    "    legend.position='none'\n",
    "    )\n",
    "\n",
    "# save and display plot\n",
    "\n",
    "png(gsub(\" \", \"\", paste('outputs/script_output_',f,'/Jarvis_met_', f, '.png')), width =  25, height = 20, units='cm', res = 330)\n",
    "\n",
    "b\n",
    "\n",
    "dev.off()\n",
    "\n",
    "b"
   ]
  },
  {
   "cell_type": "code",
   "execution_count": null,
   "id": "german-service",
   "metadata": {},
   "outputs": [],
   "source": []
  }
 ],
 "metadata": {
  "kernelspec": {
   "display_name": "R",
   "language": "R",
   "name": "ir"
  },
  "language_info": {
   "codemirror_mode": "r",
   "file_extension": ".r",
   "mimetype": "text/x-r-source",
   "name": "R",
   "pygments_lexer": "r",
   "version": "3.6.1"
  }
 },
 "nbformat": 4,
 "nbformat_minor": 5
}
