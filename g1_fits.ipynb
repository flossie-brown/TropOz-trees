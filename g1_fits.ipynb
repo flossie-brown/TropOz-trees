{
 "cells": [
  {
   "cell_type": "code",
   "execution_count": 1,
   "id": "boxed-recycling",
   "metadata": {},
   "outputs": [
    {
     "name": "stderr",
     "output_type": "stream",
     "text": [
      "Loading required package: readxl\n",
      "Loading required package: ggplot2\n",
      "Registered S3 methods overwritten by 'ggplot2':\n",
      "  method         from \n",
      "  [.quosures     rlang\n",
      "  c.quosures     rlang\n",
      "  print.quosures rlang\n",
      "Loading required package: broom\n",
      "Loading required package: plotly\n",
      "Warning message in library(package, lib.loc = lib.loc, character.only = TRUE, logical.return = TRUE, :\n",
      "\"there is no package called 'plotly'\"Loading required package: plantecophys\n",
      "Loading required package: lme4\n",
      "Loading required package: Matrix\n",
      "Loading required package: nlme\n",
      "\n",
      "Attaching package: 'nlme'\n",
      "\n",
      "The following object is masked from 'package:lme4':\n",
      "\n",
      "    lmList\n",
      "\n"
     ]
    }
   ],
   "source": [
    "#--------------------------------------------------\n",
    "#  LOAD PACKAGES\n",
    "#--------------------------------------------------\n",
    "\n",
    "require(readxl)\n",
    "require(ggplot2)\n",
    "require(broom)\n",
    "#require(viridis)\n",
    "#require(RColorBrewer)\n",
    "#library(ggthemes)\n",
    "#library(scales)\n",
    "require(plotly)\n",
    "require(plantecophys)\n",
    "require(lme4)\n",
    "#require(plyr)\n",
    "#require(multiplot)\n",
    "require(nlme)\n",
    "#library(tidyr)"
   ]
  },
  {
   "cell_type": "code",
   "execution_count": 41,
   "id": "confused-nothing",
   "metadata": {},
   "outputs": [
    {
     "name": "stdout",
     "output_type": "stream",
     "text": [
      "Check variable names (\"Pot\" should be present): \n",
      " [1] \"Pot\"      \"Obs\"      \"HHMMSS\"   \"Exp\"      \"Leaf\"     \"Repeat\"  \n",
      " [7] \"Chamber\"  \"FTime\"    \"EBal.\"    \"Type\"     \"Photo\"    \"Cond\"    \n",
      "[13] \"Ci\"       \"Trmmol\"   \"VpdL\"     \"CTleaf\"   \"Area\"     \"BLC_1\"   \n",
      "[19] \"StmRat\"   \"BLCond\"   \"Tair\"     \"Tleaf\"    \"TBlk\"     \"CO2R\"    \n",
      "[25] \"CO2S\"     \"H2OR\"     \"H2OS\"     \"RH_R\"     \"RH_S\"     \"Flow\"    \n",
      "[31] \"PARi\"     \"PARo\"     \"Press\"    \"CsMch\"    \"HsMch\"    \"StableF\" \n",
      "[37] \"BLCslope\" \"BLCoffst\" \"f_parin\"  \"f_parout\" \"alphaK\"   \"Status\"  \n",
      "[43] \"fda\"      \"Trans\"    \"Tair_K\"   \"Twall_K\"  \"R.W.m2.\"  \"Tl.Ta\"   \n",
      "[49] \"SVTleaf\"  \"h2o_i\"    \"h20diff\"  \"CTair\"    \"SVTair\"   \"CndTotal\"\n",
      "[55] \"vp_kPa\"   \"VpdA\"     \"CndCO2\"   \"Ci_Pa\"    \"Ci.Ca\"    \"RHsfc\"   \n",
      "[61] \"C2sfc\"    \"AHs.Cs\"   \"Hrs\"      \"xRH\"      \"xTair\"    \"uc_20_mV\"\n",
      "[67] \"uc_21_mV\" \"Cham_ID\" \n",
      "\n",
      "\n",
      "  Check all variables are present: \n",
      " [1] \"Obs\"     \"HHMMSS\"  \"Exp\"     \"Leaf\"    \"Chamber\" \"Pot\"     \"Photo\"  \n",
      " [8] \"Cond\"    \"VpdL\"    \"CO2S\"    \"RH_S\"    \"PARi\"    \"Hrs\"    \n"
     ]
    },
    {
     "name": "stderr",
     "output_type": "stream",
     "text": [
      "RH provided in % converted to relative units.\n"
     ]
    },
    {
     "name": "stdout",
     "output_type": "stream",
     "text": [
      "\n",
      "\n",
      "  g1 values for BallBerry model: 6.839007\n",
      "\n",
      "  r.squared values for BallBerry model:"
     ]
    },
    {
     "data": {
      "text/html": [
       "<table>\n",
       "<thead><tr><th scope=col>r.squared</th><th scope=col>adj.r.squared</th><th scope=col>sigma</th><th scope=col>statistic</th><th scope=col>p.value</th><th scope=col>df</th><th scope=col>logLik</th><th scope=col>AIC</th><th scope=col>BIC</th><th scope=col>deviance</th><th scope=col>df.residual</th></tr></thead>\n",
       "<tbody>\n",
       "\t<tr><td>0.8385354 </td><td>0.8383989 </td><td>0.02334937</td><td>6143.684  </td><td>0         </td><td>2         </td><td>2771.823  </td><td>-5537.647 </td><td>-5522.414 </td><td>0.6449631 </td><td>1183      </td></tr>\n",
       "</tbody>\n",
       "</table>\n"
      ],
      "text/latex": [
       "\\begin{tabular}{r|lllllllllll}\n",
       " r.squared & adj.r.squared & sigma & statistic & p.value & df & logLik & AIC & BIC & deviance & df.residual\\\\\n",
       "\\hline\n",
       "\t 0.8385354  & 0.8383989  & 0.02334937 & 6143.684   & 0          & 2          & 2771.823   & -5537.647  & -5522.414  & 0.6449631  & 1183      \\\\\n",
       "\\end{tabular}\n"
      ],
      "text/markdown": [
       "\n",
       "| r.squared | adj.r.squared | sigma | statistic | p.value | df | logLik | AIC | BIC | deviance | df.residual |\n",
       "|---|---|---|---|---|---|---|---|---|---|---|\n",
       "| 0.8385354  | 0.8383989  | 0.02334937 | 6143.684   | 0          | 2          | 2771.823   | -5537.647  | -5522.414  | 0.6449631  | 1183       |\n",
       "\n"
      ],
      "text/plain": [
       "  r.squared adj.r.squared sigma      statistic p.value df logLik   AIC      \n",
       "1 0.8385354 0.8383989     0.02334937 6143.684  0       2  2771.823 -5537.647\n",
       "  BIC       deviance  df.residual\n",
       "1 -5522.414 0.6449631 1183       "
      ]
     },
     "metadata": {},
     "output_type": "display_data"
    },
    {
     "name": "stdout",
     "output_type": "stream",
     "text": [
      "\n",
      "\n",
      "  g1 values for Medlyn model: 2.360096\n",
      "\n",
      "  r.squared values for Medlyn model:"
     ]
    },
    {
     "data": {
      "text/html": [
       "<table>\n",
       "<thead><tr><th scope=col>r.squared</th><th scope=col>adj.r.squared</th><th scope=col>sigma</th><th scope=col>statistic</th><th scope=col>p.value</th><th scope=col>df</th><th scope=col>logLik</th><th scope=col>AIC</th><th scope=col>BIC</th><th scope=col>deviance</th><th scope=col>df.residual</th></tr></thead>\n",
       "<tbody>\n",
       "\t<tr><td>0.8631168 </td><td>0.8630011 </td><td>0.02149867</td><td>7459.404  </td><td>0         </td><td>2         </td><td>2869.68   </td><td>-5733.359 </td><td>-5718.127 </td><td>0.5467739 </td><td>1183      </td></tr>\n",
       "</tbody>\n",
       "</table>\n"
      ],
      "text/latex": [
       "\\begin{tabular}{r|lllllllllll}\n",
       " r.squared & adj.r.squared & sigma & statistic & p.value & df & logLik & AIC & BIC & deviance & df.residual\\\\\n",
       "\\hline\n",
       "\t 0.8631168  & 0.8630011  & 0.02149867 & 7459.404   & 0          & 2          & 2869.68    & -5733.359  & -5718.127  & 0.5467739  & 1183      \\\\\n",
       "\\end{tabular}\n"
      ],
      "text/markdown": [
       "\n",
       "| r.squared | adj.r.squared | sigma | statistic | p.value | df | logLik | AIC | BIC | deviance | df.residual |\n",
       "|---|---|---|---|---|---|---|---|---|---|---|\n",
       "| 0.8631168  | 0.8630011  | 0.02149867 | 7459.404   | 0          | 2          | 2869.68    | -5733.359  | -5718.127  | 0.5467739  | 1183       |\n",
       "\n"
      ],
      "text/plain": [
       "  r.squared adj.r.squared sigma      statistic p.value df logLik  AIC      \n",
       "1 0.8631168 0.8630011     0.02149867 7459.404  0       2  2869.68 -5733.359\n",
       "  BIC       deviance  df.residual\n",
       "1 -5718.127 0.5467739 1183       "
      ]
     },
     "metadata": {},
     "output_type": "display_data"
    },
    {
     "name": "stdout",
     "output_type": "stream",
     "text": [
      "\n",
      "\n",
      "  g0 (min conductance in umol mol-1): 0.02446835\n",
      "\n",
      " Save DataFrame[1] \"BallBerry\" \"r2_BB\"     \"g0_BB\"     \"Medlyn\"    \"r2_Medlyn\"\n",
      "saved as:  XC1/script_output_XC1/gs_XC1.csv"
     ]
    }
   ],
   "source": [
    "#--------------------------------------------------\n",
    "#  LOAD FUNCTIONS\n",
    "#--------------------------------------------------\n",
    "\n",
    "setwd('C:/Users/fb428/OneDrive - University of Exeter/Documents/Tropoz/')\n",
    "source('scripts/gs_functions.R')\n",
    "\n",
    "f = 'XC1'\n",
    "\n",
    "#--------------------------------------------------\n",
    "#  LOAD DATA\n",
    "#--------------------------------------------------\n",
    "\n",
    "DATA <- read.csv(gsub(\" \", \"\", paste(f,'/',f,'_Tracking_cleaned.csv')))\n",
    "\n",
    "DATA$Hrs <- lapply(DATA$HHMMSS, FUN=function(x) as.numeric(strsplit(toString(x), ':')[[1]][1]))\n",
    "\n",
    "cat('Check variable names (\"Pot\" should be present): \\n')\n",
    "print(colnames(DATA))\n",
    "\n",
    "df <- unify_excel_file(DATA)\n",
    "cat('\\n\\n  Check all variables are present: \\n')\n",
    "print(colnames(df))\n",
    "\n",
    "#--------------------------------------------------\n",
    "#  CALCULATE GS VALUES BALLBERRY\n",
    "#--------------------------------------------------\n",
    "\n",
    "daylight <- subset(df[(df$Hrs >= 6 ) & (df$Hrs <= 18) ,], PARi >= 1)\n",
    "    \n",
    "BBfit <- fitBB(data = daylight, varnames = list(ALEAF = \"Photo\", GS = \"Cond\", VPD = \"VpdL\", Ca = \"CO2S\", RH = \"RH_S\"),\n",
    "               gsmodel = 'BallBerry', fitg0 = FALSE)\n",
    "\n",
    "coefs_BB <- coef(BBfit)\n",
    "cat('\\n\\n  g1 values for BallBerry model:', coefs_BB[[2]])\n",
    "\n",
    "preds_BB <- predict(BBfit$fit, data = daylight)\n",
    "    \n",
    "fit_stats <- fit_accuracy(BBfit, preds_BB, daylight)\n",
    "cat('\\n\\n  r.squared values for BallBerry model:')\n",
    "fit_stats\n",
    "\n",
    "#--------------------------------------------------\n",
    "#  CALCULATE GS VALUES USO MODEL\n",
    "#--------------------------------------------------\n",
    "    \n",
    "USOfit <- fitBB(data = daylight, varnames = list(ALEAF = \"Photo\", GS = \"Cond\", VPD = \"VpdL\", Ca = \"CO2S\", RH = \"RH_S\"),\n",
    "               gsmodel = 'BBOpti', fitg0 = FALSE)\n",
    "\n",
    "coefs_USO <- coef(USOfit)\n",
    "cat('\\n\\n  g1 values for Medlyn model:', coefs_USO[[2]])\n",
    "\n",
    "preds_USO <- predict(USOfit$fit, data = daylight)\n",
    "    \n",
    "fit_stats_USO <- fit_accuracy(USOfit, preds_USO, daylight)\n",
    "cat('\\n\\n  r.squared values for Medlyn model:')\n",
    "fit_stats_USO\n",
    "\n",
    "#--------------------------------------------------\n",
    "#  CALCULATE G0 VALUE\n",
    "#--------------------------------------------------\n",
    "\n",
    "night <- df[(df$Hrs <= 5) | (df$Hrs >= 19) ,]\n",
    "\n",
    "g0 <- g0_calc(night)\n",
    "\n",
    "cat('\\n\\n  g0 (min conductance in umol mol-1):', g0)\n",
    "\n",
    "#--------------------------------------------------\n",
    "#  SUMMARY AND SAVE THINGS\n",
    "#--------------------------------------------------\n",
    "\n",
    "save_stats(coefs_BB, fit_stats, coefs_USO, fit_stats_USO, g0, gsub(\" \", \"\", paste(f,'/script_output_',f,'/gs_',f,'.csv')))"
   ]
  },
  {
   "cell_type": "code",
   "execution_count": 42,
   "id": "worldwide-motorcycle",
   "metadata": {},
   "outputs": [
    {
     "data": {
      "text/html": [
       "<strong>png:</strong> 3"
      ],
      "text/latex": [
       "\\textbf{png:} 3"
      ],
      "text/markdown": [
       "**png:** 3"
      ],
      "text/plain": [
       "png \n",
       "  3 "
      ]
     },
     "metadata": {},
     "output_type": "display_data"
    },
    {
     "data": {
      "text/html": [
       "<strong>png:</strong> 2"
      ],
      "text/latex": [
       "\\textbf{png:} 2"
      ],
      "text/markdown": [
       "**png:** 2"
      ],
      "text/plain": [
       "png \n",
       "  2 "
      ]
     },
     "metadata": {},
     "output_type": "display_data"
    },
    {
     "data": {
      "image/png": "[encoded data removed]",
      "text/plain": [
       "plot without title"
      ]
     },
     "metadata": {},
     "output_type": "display_data"
    }
   ],
   "source": [
    "#initial plot of tracking data\n",
    "ggplot()+\n",
    "  geom_point(data=daylight,aes(x=Cond,y=Photo, shape = as.factor(Pot)),size=2)+\n",
    "  #geom_smooth(data=Licor_Track,aes(x=Cond,y=Photo,colour=Chamber),size=2, method = lm, formula = y ~ poly(x,1))+\n",
    "  #scale_colour_manual(values=c(\"darkgreen\",\"brown\"))+\n",
    "  scale_x_continuous(limits=c(-0.01,0.3))+\n",
    "  theme_bw()+\n",
    "  ylab(expression(paste(\"A. (\",mu,\"mol \", m^-2, s^-1,\")\", sep=\"\")))+\n",
    "  xlab(expression(paste(\"gs. (mmol \",m^-2, s^-1,\")\", sep=\"\")))+\n",
    "  theme(\n",
    "    axis.text=element_text(size=18,colour=\"black\"),\n",
    "    line=element_line(colour=\"black\"),\n",
    "    axis.title=element_text(size=18),\n",
    "    #axis.title.x=element_blank(),\n",
    "    #axis.text.x=element_blank(),\n",
    "    #axis.text.x = element_text(angle = 90, hjust = 1),\n",
    "    axis.ticks=element_line(size=2),\n",
    "    panel.border=element_rect(size=2)\n",
    "  )\n",
    "\n",
    "dev.copy(png, gsub(\" \", \"\", paste(f,'/script_output_',f,'/A_gs_',f,'.png')))\n",
    "dev.off()"
   ]
  },
  {
   "cell_type": "code",
   "execution_count": 43,
   "id": "seasonal-canberra",
   "metadata": {},
   "outputs": [
    {
     "data": {
      "text/html": [
       "<strong>png:</strong> 3"
      ],
      "text/latex": [
       "\\textbf{png:} 3"
      ],
      "text/markdown": [
       "**png:** 3"
      ],
      "text/plain": [
       "png \n",
       "  3 "
      ]
     },
     "metadata": {},
     "output_type": "display_data"
    },
    {
     "data": {
      "text/html": [
       "<strong>png:</strong> 2"
      ],
      "text/latex": [
       "\\textbf{png:} 2"
      ],
      "text/markdown": [
       "**png:** 2"
      ],
      "text/plain": [
       "png \n",
       "  2 "
      ]
     },
     "metadata": {},
     "output_type": "display_data"
    },
    {
     "data": {
      "image/png": "[encoded data removed]",
      "text/plain": [
       "Plot with title \"Ball-Berry Model\""
      ]
     },
     "metadata": {},
     "output_type": "display_data"
    }
   ],
   "source": [
    "## fit to photosynthesis\n",
    "options(repr.plot.width = 6, repr.plot.height = 6)\n",
    "gs_modelled <- preds_BB\n",
    "gs_measured <-daylight$Cond \n",
    "#initial plot of tracking data\n",
    "plot( gs_measured,gs_modelled, pch = 16, col = 'darkgreen', ylab='Modelled Conductance', xlab = 'Measured Conductance', \n",
    "     main = 'Ball-Berry Model', cex.lab = 1.5, cex.main = 2)\n",
    "#points(model_9$Cond, model_9_gs, col = 'blue')\n",
    "lines(0:1, 0:1, col = 'brown', lwd = 4)\n",
    "#legend(x = 'topleft', legend = c('g1 with g0', 'g1 without g0'), pch = 16, col = c('darkblue', 'brown'))\n",
    "axis(1,cex = 1.25)\n",
    "axis(4,cex = 1.25)\n",
    "\n",
    "dev.copy(png, gsub(\" \", \"\", paste(f,'/script_output_',f,'/BB_fit_',f,'.png')))\n",
    "dev.off()"
   ]
  },
  {
   "cell_type": "code",
   "execution_count": null,
   "id": "polar-coordination",
   "metadata": {},
   "outputs": [],
   "source": []
  }
 ],
 "metadata": {
  "kernelspec": {
   "display_name": "R",
   "language": "R",
   "name": "ir"
  },
  "language_info": {
   "codemirror_mode": "r",
   "file_extension": ".r",
   "mimetype": "text/x-r-source",
   "name": "R",
   "pygments_lexer": "r",
   "version": "3.6.1"
  }
 },
 "nbformat": 4,
 "nbformat_minor": 5
}
