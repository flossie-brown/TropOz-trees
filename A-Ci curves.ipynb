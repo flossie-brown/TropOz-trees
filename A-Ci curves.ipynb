{
 "cells": [
  {
   "cell_type": "code",
   "execution_count": 10,
   "id": "subjective-antigua",
   "metadata": {},
   "outputs": [
    {
     "name": "stderr",
     "output_type": "stream",
     "text": [
      "Loading required package: plotly\n",
      "Warning message in library(package, lib.loc = lib.loc, character.only = TRUE, logical.return = TRUE, :\n",
      "\"there is no package called 'plotly'\""
     ]
    }
   ],
   "source": [
    "#--------------------------------------------------\n",
    "#  LOAD PACKAGES\n",
    "#--------------------------------------------------\n",
    "require(readxl)\n",
    "require(ggplot2)\n",
    "#require(viridis)\n",
    "#require(RColorBrewer)\n",
    "#library(ggthemes)\n",
    "#library(scales)\n",
    "require(plotly)\n",
    "require(plantecophys)\n",
    "require(lme4)\n",
    "#require(plyr)\n",
    "#require(multiplot)\n",
    "require(nlme)\n",
    "#library(tidyr)"
   ]
  },
  {
   "cell_type": "code",
   "execution_count": 58,
   "id": "relative-advertiser",
   "metadata": {},
   "outputs": [
    {
     "name": "stdout",
     "output_type": "stream",
     "text": [
      "Check variable names (\"Pot\" should be present): \n",
      " [1] \"Obs\"      \"HHMMSS\"   \"Exp\"      \"Pot\"      \"Leaf\"     \"Repeat\"  \n",
      " [7] \"Chamber\"  \"FTime\"    \"EBal.\"    \"Type\"     \"Photo\"    \"Cond\"    \n",
      "[13] \"Ci\"       \"Trmmol\"   \"VpdL\"     \"CTleaf\"   \"Area\"     \"BLC_1\"   \n",
      "[19] \"StmRat\"   \"BLCond\"   \"Tair\"     \"Tleaf\"    \"TBlk\"     \"CO2R\"    \n",
      "[25] \"CO2S\"     \"H2OR\"     \"H2OS\"     \"RH_R\"     \"RH_S\"     \"Flow\"    \n",
      "[31] \"PARi\"     \"PARo\"     \"Press\"    \"CsMch\"    \"HsMch\"    \"StableF\" \n",
      "[37] \"BLCslope\" \"BLCoffst\" \"f_parin\"  \"f_parout\" \"alphaK\"   \"Status\"  \n",
      "[43] \"fda\"      \"Trans\"    \"Tair_K\"   \"Twall_K\"  \"R.W.m2.\"  \"Tl.Ta\"   \n",
      "[49] \"SVTleaf\"  \"h2o_i\"    \"h20diff\"  \"CTair\"    \"SVTair\"   \"CndTotal\"\n",
      "[55] \"vp_kPa\"   \"VpdA\"     \"CndCO2\"   \"Ci_Pa\"    \"Ci.Ca\"    \"RHsfc\"   \n",
      "[61] \"C2sfc\"    \"AHs.Cs\"   \"Hrs\"      \"xRH\"      \"xTair\"    \"uc_20_mV\"\n",
      "[67] \"uc_21_mV\" \"sample\"  \n",
      "\n",
      "\n",
      "  Check all variables are present: \n",
      " [1] \"Obs\"     \"HHMMSS\"  \"Exp\"     \"Pot\"     \"Leaf\"    \"Chamber\" \"Photo\"  \n",
      " [8] \"Tleaf\"   \"Ci\"      \"PARi\"   \n",
      "\n",
      " fitting ACi curves: \n",
      "  |==================================================| 100%\n",
      "\n",
      " check fit: \n",
      " "
     ]
    },
    {
     "data": {
      "text/html": [
       "<dl class=dl-horizontal>\n",
       "\t<dt>(Intercept)</dt>\n",
       "\t\t<dd>-0.000294141279886289</dd>\n",
       "\t<dt>Amodel</dt>\n",
       "\t\t<dd>1.00001287388894</dd>\n",
       "</dl>\n"
      ],
      "text/latex": [
       "\\begin{description*}\n",
       "\\item[(Intercept)] -0.000294141279886289\n",
       "\\item[Amodel] 1.00001287388894\n",
       "\\end{description*}\n"
      ],
      "text/markdown": [
       "(Intercept)\n",
       ":   -0.000294141279886289Amodel\n",
       ":   1.00001287388894\n",
       "\n"
      ],
      "text/plain": [
       "  (Intercept)        Amodel \n",
       "-0.0002941413  1.0000128739 "
      ]
     },
     "metadata": {},
     "output_type": "display_data"
    }
   ],
   "source": [
    "#--------------------------------------------------\n",
    "#  LOAD FUNCTIONS\n",
    "#--------------------------------------------------\n",
    "\n",
    "setwd('C:/Users/fb428/OneDrive - University of Exeter/Documents/Tropoz/')\n",
    "source('scripts/ACi_functions.R')\n",
    "f = 'XC1'\n",
    "\n",
    "#--------------------------------------------------\n",
    "#  LOAD DATA\n",
    "#--------------------------------------------------\n",
    "\n",
    "DATA <- read.csv(gsub(\" \", \"\", paste(f,'/',f,'_ACi.csv')))\n",
    "\n",
    "#--------------------------------------------------\n",
    "#  CALCULATE ACI CURVES\n",
    "#--------------------------------------------------\n",
    "cat('Check variable names (\"Pot\" should be present): \\n')\n",
    "print(colnames(DATA))\n",
    "\n",
    "df <- unify_excel_file(DATA)\n",
    "cat('\\n\\n  Check all variables are present: \\n')\n",
    "print(colnames(df))\n",
    "\n",
    "# give dataframe and group by variable\n",
    "cat('\\n fitting ACi curves: \\n ')\n",
    "ACI_fits <- fitACIs(df, 'Pot')\n",
    "\n",
    "average_params <- summary_table(ACI_fits)\n",
    "\n",
    "cat('\\n check fit: \\n ')\n",
    "fit_summary(ACI_fits)"
   ]
  },
  {
   "cell_type": "code",
   "execution_count": 65,
   "id": "fuzzy-ending",
   "metadata": {},
   "outputs": [
    {
     "data": {
      "text/html": [
       "<table>\n",
       "<thead><tr><th scope=col>Vcmax.mean</th><th scope=col>Vcmax.sd</th><th scope=col>Jmax.mean</th><th scope=col>Jmax.sd</th></tr></thead>\n",
       "<tbody>\n",
       "\t<tr><td>70.33426</td><td>12.35445</td><td>210.2337</td><td>15.97275</td></tr>\n",
       "</tbody>\n",
       "</table>\n"
      ],
      "text/latex": [
       "\\begin{tabular}{r|llll}\n",
       " Vcmax.mean & Vcmax.sd & Jmax.mean & Jmax.sd\\\\\n",
       "\\hline\n",
       "\t 70.33426 & 12.35445 & 210.2337 & 15.97275\\\\\n",
       "\\end{tabular}\n"
      ],
      "text/markdown": [
       "\n",
       "| Vcmax.mean | Vcmax.sd | Jmax.mean | Jmax.sd |\n",
       "|---|---|---|---|\n",
       "| 70.33426 | 12.35445 | 210.2337 | 15.97275 |\n",
       "\n"
      ],
      "text/plain": [
       "  Vcmax.mean Vcmax.sd Jmax.mean Jmax.sd \n",
       "1 70.33426   12.35445 210.2337  15.97275"
      ]
     },
     "metadata": {},
     "output_type": "display_data"
    }
   ],
   "source": [
    "average_params\n",
    "write.csv(average_params, gsub(\" \", \"\", paste(f,'/script_output_',f,'/',f,'_Photo_params.csv')), row.names=FALSE)"
   ]
  },
  {
   "cell_type": "code",
   "execution_count": 60,
   "id": "fancy-affair",
   "metadata": {},
   "outputs": [
    {
     "data": {
      "text/html": [
       "3"
      ],
      "text/latex": [
       "3"
      ],
      "text/markdown": [
       "3"
      ],
      "text/plain": [
       "[1] 3"
      ]
     },
     "metadata": {},
     "output_type": "display_data"
    }
   ],
   "source": [
    "length(ACI_fits)"
   ]
  },
  {
   "cell_type": "code",
   "execution_count": 64,
   "id": "spiritual-arrival",
   "metadata": {
    "scrolled": false
   },
   "outputs": [
    {
     "data": {
      "text/html": [
       "<strong>png:</strong> 3"
      ],
      "text/latex": [
       "\\textbf{png:} 3"
      ],
      "text/markdown": [
       "**png:** 3"
      ],
      "text/plain": [
       "png \n",
       "  3 "
      ]
     },
     "metadata": {},
     "output_type": "display_data"
    },
    {
     "data": {
      "text/html": [
       "<strong>png:</strong> 2"
      ],
      "text/latex": [
       "\\textbf{png:} 2"
      ],
      "text/markdown": [
       "**png:** 2"
      ],
      "text/plain": [
       "png \n",
       "  2 "
      ]
     },
     "metadata": {},
     "output_type": "display_data"
    }
   ],
   "source": [
    "par(mfrow = c(2,2))\n",
    "plot(ACI_fits)\n",
    "\n",
    "dev.copy(png, gsub(\" \", \"\", paste(f,'/script_output_',f,'/ACi_fits_',f,'.png')))\n",
    "dev.off()"
   ]
  },
  {
   "cell_type": "code",
   "execution_count": 62,
   "id": "returning-serial",
   "metadata": {},
   "outputs": [
    {
     "data": {
      "image/png": "[encoded data removed]",
      "text/plain": [
       "plot without title"
      ]
     },
     "metadata": {},
     "output_type": "display_data"
    }
   ],
   "source": [
    "# rough plotting of ACI data\n",
    "options(repr.plot.width = 6, repr.plot.height = 4)\n",
    "ggplot()+\n",
    "  geom_point(data=df,aes(x=Ci,y=Photo,shape=Pot,colour=Chamber),size=4, color = 'darkgreen')+\n",
    "  #geom_smooth(data = fits$df, aes(x = fit$df$Ci, y = fit$df$Amodel), color = 'black', se = FALSE)+\n",
    "  theme_bw()+\n",
    "labs(y = expression(paste(\"Photo. (\",mu,\"mol \", m^-2, s^-1,\")\", sep=\"\")), x = expression(paste(\"Ci (\",mu,\"mol \", mol^-1,\")\", sep=\"\")))"
   ]
  },
  {
   "cell_type": "code",
   "execution_count": null,
   "id": "scenic-drilling",
   "metadata": {},
   "outputs": [],
   "source": []
  }
 ],
 "metadata": {
  "kernelspec": {
   "display_name": "R",
   "language": "R",
   "name": "ir"
  },
  "language_info": {
   "codemirror_mode": "r",
   "file_extension": ".r",
   "mimetype": "text/x-r-source",
   "name": "R",
   "pygments_lexer": "r",
   "version": "3.6.1"
  }
 },
 "nbformat": 4,
 "nbformat_minor": 5
}
